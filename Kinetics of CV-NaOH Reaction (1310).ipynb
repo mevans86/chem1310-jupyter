{
 "cells": [
  {
   "cell_type": "code",
   "execution_count": 1,
   "metadata": {
    "scrolled": true
   },
   "outputs": [
    {
     "data": {
      "application/vnd.jupyter.widget-view+json": {
       "model_id": "555b777bd9704f738af363430c044abc",
       "version_major": 2,
       "version_minor": 0
      },
      "text/plain": [
       "Sheet(cells=(Cell(column_end=0, column_start=0, numeric_format='0.0', read_only=True, row_end=60, row_start=0,…"
      ]
     },
     "metadata": {},
     "output_type": "display_data"
    }
   ],
   "source": [
    "import numpy as np\n",
    "import ipysheet\n",
    "from ipywidgets import HBox\n",
    "import math\n",
    "from traitlets import directional_link\n",
    "from bqplot import *\n",
    "import bqplot.pyplot as pyplot\n",
    "import scipy.constants as constants\n",
    "import scipy.stats as stats\n",
    "from IPython.display import display, Math\n",
    "\n",
    "R = constants.value(\"molar gas constant\")\n",
    "\n",
    "times_rt = [i * 5 for i in range(61)]\n",
    "abs_r1 = [0.9 * math.exp(-0.0024 * t) + np.random.normal(scale = 0.01)  for t in times_rt]\n",
    "abs_r2 = [0.85 * math.exp(-0.0012 * t) + np.random.normal(scale = 0.01)  for t in times_rt]\n",
    "abs_r3 = [0.75 * math.exp(-0.0024 * t) + np.random.normal(scale = 0.01) for t in times_rt]\n",
    "\n",
    "table1 = ipysheet.sheet(rows = 61, columns = 4, column_headers = [\"Time (s)\", \"Absorbance (Run 1)\",\n",
    "                                                                  \"Absorbance (Run 2)\", \"Absorbance (Run 3)\"])\n",
    "column_time = ipysheet.column(0, times_rt, read_only = True, numeric_format = \"0.0\", type=\"numeric\")\n",
    "column_r1 = ipysheet.column(1, abs_r1, type=\"numeric\")\n",
    "column_r2 = ipysheet.column(2, abs_r2, type=\"numeric\")\n",
    "column_r3 = ipysheet.column(3, abs_r3, type=\"numeric\")\n",
    "table1"
   ]
  },
  {
   "cell_type": "code",
   "execution_count": 2,
   "metadata": {},
   "outputs": [
    {
     "data": {
      "application/vnd.jupyter.widget-view+json": {
       "model_id": "94cc08306ae547388482ce50d878d04c",
       "version_major": 2,
       "version_minor": 0
      },
      "text/plain": [
       "Figure(axes=[Axis(label='Time (s)', scale=LinearScale()), Axis(label='Absorbance at 590 nm', orientation='vert…"
      ]
     },
     "metadata": {},
     "output_type": "display_data"
    }
   ],
   "source": [
    "fig = pyplot.figure()\n",
    "pyplot.clear()\n",
    "plot_r1 = pyplot.scatter(times_rt, abs_r1, colors=[\"red\"], axes_options={ \"scale\": LinearScale() })\n",
    "plot_r2 = pyplot.scatter(times_rt, abs_r2, colors=[\"blue\"])\n",
    "plot_r3 = pyplot.scatter(times_rt, abs_r3, colors=[\"green\"])\n",
    "\n",
    "pyplot.xlabel(\"Time (s)\")\n",
    "pyplot.ylabel(\"Absorbance at 590 nm\")\n",
    "directional_link((column_time, \"value\"), (plot_r1, \"x\"))\n",
    "directional_link((column_r1, \"value\"), (plot_r1, \"y\"))\n",
    "directional_link((column_time, \"value\"), (plot_r2, \"x\"))\n",
    "directional_link((column_r2, \"value\"), (plot_r2, \"y\"))\n",
    "directional_link((column_time, \"value\"), (plot_r3, \"x\"))\n",
    "directional_link((column_r3, \"value\"), (plot_r3, \"y\"))\n",
    "\n",
    "fig"
   ]
  },
  {
   "cell_type": "code",
   "execution_count": null,
   "metadata": {},
   "outputs": [],
   "source": []
  }
 ],
 "metadata": {
  "kernelspec": {
   "display_name": "Python 3",
   "language": "python",
   "name": "python3"
  },
  "language_info": {
   "codemirror_mode": {
    "name": "ipython",
    "version": 3
   },
   "file_extension": ".py",
   "mimetype": "text/x-python",
   "name": "python",
   "nbconvert_exporter": "python",
   "pygments_lexer": "ipython3",
   "version": "3.7.5"
  }
 },
 "nbformat": 4,
 "nbformat_minor": 2
}
